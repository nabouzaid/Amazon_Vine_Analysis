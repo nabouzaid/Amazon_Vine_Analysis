{
  "nbformat": 4,
  "nbformat_minor": 0,
  "metadata": {
    "colab": {
      "name": "Amazon_Reviews_ETL.ipynb",
      "provenance": []
    },
    "kernelspec": {
      "name": "python3",
      "display_name": "Python 3"
    },
    "nteract": {
      "version": "0.12.3"
    },
    "language_info": {
      "name": "python"
    }
  },
  "cells": [
    {
      "cell_type": "code",
      "metadata": {
        "id": "V58rxea0HqSa",
        "colab": {
          "base_uri": "https://localhost:8080/"
        },
        "outputId": "d2abdeba-4605-440c-df9e-40fba540f997"
      },
      "source": [
        "import os\n",
        "# Find the latest version of spark 3.0 from http://www.apache.org/dist/spark/ and enter as the spark version\n",
        "# For example:\n",
        "# spark_version = 'spark-3.0.3'\n",
        "spark_version = 'spark-3.0.3'\n",
        "os.environ['SPARK_VERSION']=spark_version\n",
        "\n",
        "# Install Spark and Java\n",
        "!apt-get update\n",
        "!apt-get install openjdk-11-jdk-headless -qq > /dev/null\n",
        "!wget -q http://www.apache.org/dist/spark/$SPARK_VERSION/$SPARK_VERSION-bin-hadoop2.7.tgz\n",
        "!tar xf $SPARK_VERSION-bin-hadoop2.7.tgz\n",
        "!pip install -q findspark\n",
        "\n",
        "# Set Environment Variables\n",
        "import os\n",
        "os.environ[\"JAVA_HOME\"] = \"/usr/lib/jvm/java-11-openjdk-amd64\"\n",
        "os.environ[\"SPARK_HOME\"] = f\"/content/{spark_version}-bin-hadoop2.7\"\n",
        "\n",
        "# Start a SparkSession\n",
        "import findspark\n",
        "findspark.init()"
      ],
      "execution_count": null,
      "outputs": [
        {
          "output_type": "stream",
          "name": "stdout",
          "text": [
            "\r0% [Working]\r            \rIgn:1 https://developer.download.nvidia.com/compute/cuda/repos/ubuntu1804/x86_64  InRelease\n",
            "\r0% [Connecting to archive.ubuntu.com (91.189.88.152)] [Connecting to security.u\r                                                                               \rGet:2 https://cloud.r-project.org/bin/linux/ubuntu bionic-cran40/ InRelease [3,626 B]\n",
            "Get:3 http://security.ubuntu.com/ubuntu bionic-security InRelease [88.7 kB]\n",
            "Ign:4 https://developer.download.nvidia.com/compute/machine-learning/repos/ubuntu1804/x86_64  InRelease\n",
            "Get:5 https://developer.download.nvidia.com/compute/cuda/repos/ubuntu1804/x86_64  Release [696 B]\n",
            "Hit:6 http://ppa.launchpad.net/c2d4u.team/c2d4u4.0+/ubuntu bionic InRelease\n",
            "Hit:7 https://developer.download.nvidia.com/compute/machine-learning/repos/ubuntu1804/x86_64  Release\n",
            "Get:8 https://developer.download.nvidia.com/compute/cuda/repos/ubuntu1804/x86_64  Release.gpg [836 B]\n",
            "Hit:9 http://archive.ubuntu.com/ubuntu bionic InRelease\n",
            "Get:10 http://archive.ubuntu.com/ubuntu bionic-updates InRelease [88.7 kB]\n",
            "Get:11 https://cloud.r-project.org/bin/linux/ubuntu bionic-cran40/ Packages [73.0 kB]\n",
            "Hit:12 http://ppa.launchpad.net/cran/libgit2/ubuntu bionic InRelease\n",
            "Hit:13 http://ppa.launchpad.net/deadsnakes/ppa/ubuntu bionic InRelease\n",
            "Get:14 http://archive.ubuntu.com/ubuntu bionic-backports InRelease [74.6 kB]\n",
            "Hit:15 http://ppa.launchpad.net/graphics-drivers/ppa/ubuntu bionic InRelease\n",
            "Get:17 https://developer.download.nvidia.com/compute/cuda/repos/ubuntu1804/x86_64  Packages [808 kB]\n",
            "Get:18 http://security.ubuntu.com/ubuntu bionic-security/restricted amd64 Packages [633 kB]\n",
            "Get:19 http://security.ubuntu.com/ubuntu bionic-security/universe amd64 Packages [1,437 kB]\n",
            "Get:20 http://security.ubuntu.com/ubuntu bionic-security/main amd64 Packages [2,400 kB]\n",
            "Get:21 http://archive.ubuntu.com/ubuntu bionic-updates/main amd64 Packages [2,837 kB]\n",
            "Get:22 http://archive.ubuntu.com/ubuntu bionic-updates/universe amd64 Packages [2,217 kB]\n",
            "Fetched 10.7 MB in 5s (2,313 kB/s)\n",
            "Reading package lists... Done\n"
          ]
        }
      ]
    },
    {
      "cell_type": "code",
      "metadata": {
        "id": "_xKwTpATHqSe",
        "colab": {
          "base_uri": "https://localhost:8080/"
        },
        "outputId": "6147a5db-3735-44ee-8509-6e052e2d45c0"
      },
      "source": [
        "# Download the Postgres driver that will allow Spark to interact with Postgres.\n",
        "!wget https://jdbc.postgresql.org/download/postgresql-42.2.16.jar"
      ],
      "execution_count": null,
      "outputs": [
        {
          "output_type": "stream",
          "name": "stdout",
          "text": [
            "--2021-11-06 23:00:25--  https://jdbc.postgresql.org/download/postgresql-42.2.16.jar\n",
            "Resolving jdbc.postgresql.org (jdbc.postgresql.org)... 72.32.157.228, 2001:4800:3e1:1::228\n",
            "Connecting to jdbc.postgresql.org (jdbc.postgresql.org)|72.32.157.228|:443... connected.\n",
            "HTTP request sent, awaiting response... 200 OK\n",
            "Length: 1002883 (979K) [application/java-archive]\n",
            "Saving to: ‘postgresql-42.2.16.jar’\n",
            "\n",
            "postgresql-42.2.16. 100%[===================>] 979.38K  --.-KB/s    in 0.1s    \n",
            "\n",
            "2021-11-06 23:00:26 (9.70 MB/s) - ‘postgresql-42.2.16.jar’ saved [1002883/1002883]\n",
            "\n"
          ]
        }
      ]
    },
    {
      "cell_type": "code",
      "metadata": {
        "id": "MMqDAjVS0KN9",
        "colab": {
          "base_uri": "https://localhost:8080/",
          "height": 351
        },
        "outputId": "4ff56dbf-d783-4e86-b228-24e3beb86f79"
      },
      "source": [
        "from pyspark.sql import SparkSession\n",
        "spark = SparkSession.builder.appName(\"M16-Amazon-Challenge\").config(\"spark.driver.extraClassPath\",\"/content/postgresql-42.2.16.jar\").getOrCreate()"
      ],
      "execution_count": 1,
      "outputs": [
        {
          "output_type": "error",
          "ename": "ModuleNotFoundError",
          "evalue": "ignored",
          "traceback": [
            "\u001b[0;31m---------------------------------------------------------------------------\u001b[0m",
            "\u001b[0;31mModuleNotFoundError\u001b[0m                       Traceback (most recent call last)",
            "\u001b[0;32m<ipython-input-1-23d6ccf3b880>\u001b[0m in \u001b[0;36m<module>\u001b[0;34m()\u001b[0m\n\u001b[0;32m----> 1\u001b[0;31m \u001b[0;32mfrom\u001b[0m \u001b[0mpyspark\u001b[0m\u001b[0;34m.\u001b[0m\u001b[0msql\u001b[0m \u001b[0;32mimport\u001b[0m \u001b[0mSparkSession\u001b[0m\u001b[0;34m\u001b[0m\u001b[0;34m\u001b[0m\u001b[0m\n\u001b[0m\u001b[1;32m      2\u001b[0m \u001b[0mspark\u001b[0m \u001b[0;34m=\u001b[0m \u001b[0mSparkSession\u001b[0m\u001b[0;34m.\u001b[0m\u001b[0mbuilder\u001b[0m\u001b[0;34m.\u001b[0m\u001b[0mappName\u001b[0m\u001b[0;34m(\u001b[0m\u001b[0;34m\"M16-Amazon-Challenge\"\u001b[0m\u001b[0;34m)\u001b[0m\u001b[0;34m.\u001b[0m\u001b[0mconfig\u001b[0m\u001b[0;34m(\u001b[0m\u001b[0;34m\"spark.driver.extraClassPath\"\u001b[0m\u001b[0;34m,\u001b[0m\u001b[0;34m\"/content/postgresql-42.2.16.jar\"\u001b[0m\u001b[0;34m)\u001b[0m\u001b[0;34m.\u001b[0m\u001b[0mgetOrCreate\u001b[0m\u001b[0;34m(\u001b[0m\u001b[0;34m)\u001b[0m\u001b[0;34m\u001b[0m\u001b[0;34m\u001b[0m\u001b[0m\n",
            "\u001b[0;31mModuleNotFoundError\u001b[0m: No module named 'pyspark'",
            "",
            "\u001b[0;31m---------------------------------------------------------------------------\u001b[0;32m\nNOTE: If your import is failing due to a missing package, you can\nmanually install dependencies using either !pip or !apt.\n\nTo view examples of installing some common dependencies, click the\n\"Open Examples\" button below.\n\u001b[0;31m---------------------------------------------------------------------------\u001b[0m\n"
          ],
          "errorDetails": {
            "actions": [
              {
                "action": "open_url",
                "actionText": "Open Examples",
                "url": "/notebooks/snippets/importing_libraries.ipynb"
              }
            ]
          }
        }
      ]
    },
    {
      "cell_type": "markdown",
      "metadata": {
        "id": "cyBsySGuY-9V"
      },
      "source": [
        "### Load Amazon Data into Spark DataFrame"
      ]
    },
    {
      "cell_type": "code",
      "metadata": {
        "id": "CtCmBhQJY-9Z",
        "colab": {
          "base_uri": "https://localhost:8080/"
        },
        "outputId": "e977a2d3-34de-4bc0-c1cb-342ccd600d8b"
      },
      "source": [
        "from pyspark import SparkFiles\n",
        "url = \"https://nabouzaid-bucket.s3.us-east-2.amazonaws.com/amazon_reviews_us_Books_v1_02.tsv\"\n",
        "spark.sparkContext.addFile(url)\n",
        "df = spark.read.option(\"encoding\", \"UTF-8\").csv(SparkFiles.get(\"amazon_reviews_us_Books_v1_02.tsv\"), sep=\"\\t\", header=True, inferSchema=True)\n",
        "df.show()"
      ],
      "execution_count": null,
      "outputs": [
        {
          "output_type": "stream",
          "name": "stdout",
          "text": [
            "+-----------+-----------+--------------+----------+--------------+--------------------+----------------+-----------+-------------+-----------+----+-----------------+--------------------+--------------------+-----------+\n",
            "|marketplace|customer_id|     review_id|product_id|product_parent|       product_title|product_category|star_rating|helpful_votes|total_votes|vine|verified_purchase|     review_headline|         review_body|review_date|\n",
            "+-----------+-----------+--------------+----------+--------------+--------------------+----------------+-----------+-------------+-----------+----+-----------------+--------------------+--------------------+-----------+\n",
            "|         US|   12076615| RQ58W7SMO911M|0385730586|     122662979|Sisterhood of the...|           Books|          4|            2|          3|   N|                N|this book was a g...|this boook was a ...| 2005-10-14|\n",
            "|         US|   12703090|  RF6IUKMGL8SF|0811828964|      56191234|The Bad Girl's Gu...|           Books|          3|            5|          5|   N|                N|           Fun Fluff|If you are lookin...| 2005-10-14|\n",
            "|         US|   12257412|R1DOSHH6AI622S|1844161560|     253182049|Eisenhorn (A Warh...|           Books|          4|            1|         22|   N|                N| this isn't a review|never read it-a y...| 2005-10-14|\n",
            "|         US|   50732546| RATOTLA3OF70O|0373836635|     348672532|Colby Conspiracy ...|           Books|          5|            2|          2|   N|                N|fine author on he...|Though she is hon...| 2005-10-14|\n",
            "|         US|   51964897|R1TNWRKIVHVYOV|0262181533|     598678717|The Psychology of...|           Books|          4|            0|          2|   N|                N|Execellent cursor...|Review based on a...| 2005-10-14|\n",
            "|         US|   31048862|R2F53LI9KK9MOY|0316769487|     862964341|The Catcher in th...|           Books|          4|            2|          2|   N|                N|   Interesting, fun.|My only complaint...| 2005-10-14|\n",
            "|         US|   53000124|R1KJ6MB7MRSQFF|0805076069|     145341889|Bait and Switch: ...|           Books|          4|            9|         11|   N|                N|I viewed this the...|This book is chil...| 2005-10-14|\n",
            "|         US|   29732693|R2XIM9LT335WHE|1581603681|     640542054|Opening Combinati...|           Books|          4|            3|         10|   N|                N|No Frills - Just ...|When looking for ...| 2005-10-14|\n",
            "|         US|   48541186|R1VE0FQQ0QTQJN|0300108834|     915891133|A Little History ...|           Books|          5|           16|         20|   N|                Y|Simple, entertain...|Never been much f...| 2005-10-14|\n",
            "|         US|   15280864|R1VKEE2NWSWDRU|0446531081|     880645124|Hour Game (King &...|           Books|          4|            0|          0|   N|                N|        A good read!|If you enjoy a we...| 2005-10-14|\n",
            "|         US|   24209213|R2UP6XSVYJBJ2H|0976822105|     731931430|     Faith is a Verb|           Books|          5|            0|          0|   N|                N|Made me Question ...|I thoroughly enjo...| 2005-10-14|\n",
            "|         US|   52253037|R21SYDQ70ILUC0|1580085695|     586052746|Furry Logic: A Gu...|           Books|          5|            1|          1|   N|                Y|    The Perfect Gift|If you are stumpe...| 2005-10-14|\n",
            "|         US|   27925116| R7M06Z88PD7SX|0029148510|      72387289|Acts of War: Beha...|           Books|          4|           14|         14|   N|                N|Solid Book About ...|Whether intention...| 2005-10-14|\n",
            "|         US|   15005044| RRS38KZ4WB5O2|1592285570|     702385650|Temple to the Win...|           Books|          5|            1|          1|   N|                N|A riveting accoun...|Temple to the win...| 2005-10-14|\n",
            "|         US|   52534781|R2YDYRSLGNHPHR|0811848833|     102333549|The Star Wars Pos...|           Books|          4|           16|         19|   N|                Y|Comprehensive vis...|At last... a comp...| 2005-10-14|\n",
            "|         US|   26217071|R1BMPM18O6VZOR|0782144276|     971452783|Photoshop for Nat...|           Books|          4|           13|         14|   N|                N|          Great Book|I find \\\\\"Photosh...| 2005-10-14|\n",
            "|         US|   37684582|R1AABFZH0J0C0C|0375757996|     760991156|The Basic Works o...|           Books|          3|           17|         35|   N|                N|Problems with thi...|I love Aristotle ...| 2005-10-14|\n",
            "|         US|   45232107|R3SJYLG07EHNE9|013146308X|     332774292|The Pterosaurs: F...|           Books|          2|           16|         34|   N|                N|Warmed over lefto...|To his discredit,...| 2005-10-14|\n",
            "|         US|   15437121|R2TIO43ND87XVO|0375701907|     635714194|Straight Man: A N...|           Books|          5|            1|          1|   N|                N|       Funniest Book|Hands down, the f...| 2005-10-14|\n",
            "|         US|   52157117|R18TY4WD19OUAO|141378240X|     656010659|   Lipstick's Legacy|           Books|          5|            1|          1|   N|                N|          Great Work|I read this book ...| 2005-10-14|\n",
            "+-----------+-----------+--------------+----------+--------------+--------------------+----------------+-----------+-------------+-----------+----+-----------------+--------------------+--------------------+-----------+\n",
            "only showing top 20 rows\n",
            "\n"
          ]
        }
      ]
    },
    {
      "cell_type": "markdown",
      "metadata": {
        "id": "2yUSe55VY-9t"
      },
      "source": [
        "### Create DataFrames to match tables"
      ]
    },
    {
      "cell_type": "code",
      "metadata": {
        "id": "C8REmY1aY-9u"
      },
      "source": [
        "from pyspark.sql.functions import to_date\n"
      ],
      "execution_count": null,
      "outputs": []
    },
    {
      "cell_type": "code",
      "metadata": {
        "id": "B0TESUDRY-90",
        "colab": {
          "base_uri": "https://localhost:8080/"
        },
        "outputId": "08331898-8a35-41c4-8da0-aac2574a8d32"
      },
      "source": [
        "# Create the customers_table DataFrame\n",
        "#customers_df = df.groupby(\"customer_id\").agg({\")}).withColumnRenamed(\"customer_count\", \"customer_count\")\n",
        "customers_df = df.groupby(\"customer_id\").agg({\"customer_id\":\"count\"}).withColumnRenamed(\"count(customer_id)\", \"customer_count\")\n",
        "customers_df.show()"
      ],
      "execution_count": null,
      "outputs": [
        {
          "output_type": "stream",
          "name": "stdout",
          "text": [
            "+-----------+--------------+\n",
            "|customer_id|customer_count|\n",
            "+-----------+--------------+\n",
            "|   28735044|             9|\n",
            "|   15607794|             1|\n",
            "|   15596972|             1|\n",
            "|   32371281|             2|\n",
            "|   12084021|             1|\n",
            "|   14462635|             1|\n",
            "|   41052840|             5|\n",
            "|   52068296|           105|\n",
            "|   51739623|             1|\n",
            "|   14544320|             1|\n",
            "|   50093726|           151|\n",
            "|   52925615|             1|\n",
            "|   12266315|             1|\n",
            "|   44917096|             1|\n",
            "|   52833886|             1|\n",
            "|   51854558|            57|\n",
            "|   12404586|             2|\n",
            "|   49850307|             8|\n",
            "|   23478170|             1|\n",
            "|   51088740|             1|\n",
            "+-----------+--------------+\n",
            "only showing top 20 rows\n",
            "\n"
          ]
        }
      ]
    },
    {
      "cell_type": "code",
      "metadata": {
        "id": "4FwXA6UvY-96",
        "colab": {
          "base_uri": "https://localhost:8080/"
        },
        "outputId": "fcf8e1a7-e62b-4c9b-858e-a790f7e0e1bd"
      },
      "source": [
        "# Create the products_table DataFrame and drop duplicates. \n",
        "products_df = df.select([\"product_id\", \"product_title\"]).drop_duplicates()\n",
        "products_df.show()"
      ],
      "execution_count": null,
      "outputs": [
        {
          "output_type": "stream",
          "name": "stdout",
          "text": [
            "+----------+--------------------+\n",
            "|product_id|       product_title|\n",
            "+----------+--------------------+\n",
            "|0029148510|Acts of War: Beha...|\n",
            "|1844494896|Waiting For Kate ...|\n",
            "|0451216954|Dark Lover (Black...|\n",
            "|006056718X|Often Wrong, Neve...|\n",
            "|0965852768|101 Spooktacular ...|\n",
            "|141960435X|Flip Flop Spanish...|\n",
            "|0471282502|Experimental Orga...|\n",
            "|0756613647|Universe: The Def...|\n",
            "|B0006YGCE8|Seismic risk asse...|\n",
            "|207030602X|L Etranger (Folio...|\n",
            "|1569711224|Aliens: Hive  (2n...|\n",
            "|0756613744|Go Figure!: A Tot...|\n",
            "|0891073825|The Cross: God's ...|\n",
            "|1595140840|            Teach Me|\n",
            "|1844491412|Led Zeppelin: The...|\n",
            "|0060737980|Surrounded by Idi...|\n",
            "|0486265250|Ancient Egyptian ...|\n",
            "|0763627798|           Shoe Baby|\n",
            "|097559950X|Natural Cures \"Th...|\n",
            "|0595362478| Accursed Inhabitant|\n",
            "+----------+--------------------+\n",
            "only showing top 20 rows\n",
            "\n"
          ]
        }
      ]
    },
    {
      "cell_type": "code",
      "metadata": {
        "id": "MkqyCuNQY-9-",
        "colab": {
          "base_uri": "https://localhost:8080/"
        },
        "outputId": "eca5158a-e987-4668-a3f0-39e90479fe63"
      },
      "source": [
        "# Create the review_id_table DataFrame. \n",
        "\n",
        "# Convert the 'review_date' column to a date datatype with to_date(\"review_date\", 'yyyy-MM-dd').alias(\"review_date\")\n",
        "\n",
        "review_id_df = df.select([\"review_id\", \"customer_id\", \"product_id\", \"product_parent\", to_date(\"review_date\", 'yyyy-MM-dd').alias(\"review_date\")])\n",
        "\n",
        "review_id_df.show()\n"
      ],
      "execution_count": null,
      "outputs": [
        {
          "output_type": "stream",
          "name": "stdout",
          "text": [
            "+--------------+-----------+----------+--------------+-----------+\n",
            "|     review_id|customer_id|product_id|product_parent|review_date|\n",
            "+--------------+-----------+----------+--------------+-----------+\n",
            "| RQ58W7SMO911M|   12076615|0385730586|     122662979| 2005-10-14|\n",
            "|  RF6IUKMGL8SF|   12703090|0811828964|      56191234| 2005-10-14|\n",
            "|R1DOSHH6AI622S|   12257412|1844161560|     253182049| 2005-10-14|\n",
            "| RATOTLA3OF70O|   50732546|0373836635|     348672532| 2005-10-14|\n",
            "|R1TNWRKIVHVYOV|   51964897|0262181533|     598678717| 2005-10-14|\n",
            "|R2F53LI9KK9MOY|   31048862|0316769487|     862964341| 2005-10-14|\n",
            "|R1KJ6MB7MRSQFF|   53000124|0805076069|     145341889| 2005-10-14|\n",
            "|R2XIM9LT335WHE|   29732693|1581603681|     640542054| 2005-10-14|\n",
            "|R1VE0FQQ0QTQJN|   48541186|0300108834|     915891133| 2005-10-14|\n",
            "|R1VKEE2NWSWDRU|   15280864|0446531081|     880645124| 2005-10-14|\n",
            "|R2UP6XSVYJBJ2H|   24209213|0976822105|     731931430| 2005-10-14|\n",
            "|R21SYDQ70ILUC0|   52253037|1580085695|     586052746| 2005-10-14|\n",
            "| R7M06Z88PD7SX|   27925116|0029148510|      72387289| 2005-10-14|\n",
            "| RRS38KZ4WB5O2|   15005044|1592285570|     702385650| 2005-10-14|\n",
            "|R2YDYRSLGNHPHR|   52534781|0811848833|     102333549| 2005-10-14|\n",
            "|R1BMPM18O6VZOR|   26217071|0782144276|     971452783| 2005-10-14|\n",
            "|R1AABFZH0J0C0C|   37684582|0375757996|     760991156| 2005-10-14|\n",
            "|R3SJYLG07EHNE9|   45232107|013146308X|     332774292| 2005-10-14|\n",
            "|R2TIO43ND87XVO|   15437121|0375701907|     635714194| 2005-10-14|\n",
            "|R18TY4WD19OUAO|   52157117|141378240X|     656010659| 2005-10-14|\n",
            "+--------------+-----------+----------+--------------+-----------+\n",
            "only showing top 20 rows\n",
            "\n"
          ]
        }
      ]
    },
    {
      "cell_type": "code",
      "metadata": {
        "id": "lzMmkdKmY--D",
        "colab": {
          "base_uri": "https://localhost:8080/"
        },
        "outputId": "460631a2-0afb-4b1a-e738-25a3678d81ed"
      },
      "source": [
        "# Create the vine_table. DataFrame\n",
        "vine_df = df.select([\"review_id\", \"star_rating\", \"helpful_votes\", \"total_votes\", \"vine\", \"verified_purchase\"])\n",
        "vine_df.show()\n"
      ],
      "execution_count": null,
      "outputs": [
        {
          "output_type": "stream",
          "name": "stdout",
          "text": [
            "+--------------+-----------+-------------+-----------+----+-----------------+\n",
            "|     review_id|star_rating|helpful_votes|total_votes|vine|verified_purchase|\n",
            "+--------------+-----------+-------------+-----------+----+-----------------+\n",
            "| RQ58W7SMO911M|          4|            2|          3|   N|                N|\n",
            "|  RF6IUKMGL8SF|          3|            5|          5|   N|                N|\n",
            "|R1DOSHH6AI622S|          4|            1|         22|   N|                N|\n",
            "| RATOTLA3OF70O|          5|            2|          2|   N|                N|\n",
            "|R1TNWRKIVHVYOV|          4|            0|          2|   N|                N|\n",
            "|R2F53LI9KK9MOY|          4|            2|          2|   N|                N|\n",
            "|R1KJ6MB7MRSQFF|          4|            9|         11|   N|                N|\n",
            "|R2XIM9LT335WHE|          4|            3|         10|   N|                N|\n",
            "|R1VE0FQQ0QTQJN|          5|           16|         20|   N|                Y|\n",
            "|R1VKEE2NWSWDRU|          4|            0|          0|   N|                N|\n",
            "|R2UP6XSVYJBJ2H|          5|            0|          0|   N|                N|\n",
            "|R21SYDQ70ILUC0|          5|            1|          1|   N|                Y|\n",
            "| R7M06Z88PD7SX|          4|           14|         14|   N|                N|\n",
            "| RRS38KZ4WB5O2|          5|            1|          1|   N|                N|\n",
            "|R2YDYRSLGNHPHR|          4|           16|         19|   N|                Y|\n",
            "|R1BMPM18O6VZOR|          4|           13|         14|   N|                N|\n",
            "|R1AABFZH0J0C0C|          3|           17|         35|   N|                N|\n",
            "|R3SJYLG07EHNE9|          2|           16|         34|   N|                N|\n",
            "|R2TIO43ND87XVO|          5|            1|          1|   N|                N|\n",
            "|R18TY4WD19OUAO|          5|            1|          1|   N|                N|\n",
            "+--------------+-----------+-------------+-----------+----+-----------------+\n",
            "only showing top 20 rows\n",
            "\n"
          ]
        }
      ]
    },
    {
      "cell_type": "markdown",
      "metadata": {
        "id": "jITZhLkmY--J"
      },
      "source": [
        "### Connect to the AWS RDS instance and write each DataFrame to its table. "
      ]
    },
    {
      "cell_type": "code",
      "metadata": {
        "id": "7jiUvs1aY--L"
      },
      "source": [
        "# Configure settings for RDS\n",
        "mode = \"append\"\n",
        "jdbc_url=\"jdbc:postgresql://dataviz.cvgiguwpyepj.us-east-2.rds.amazonaws.com:5432/postgres\"\n",
        "config = {\"user\":\"postgres\", \n",
        "          \"password\": \"Chapo456\", \n",
        "          \"driver\":\"org.postgresql.Driver\"}"
      ],
      "execution_count": null,
      "outputs": []
    },
    {
      "cell_type": "code",
      "metadata": {
        "id": "T2zgZ-aKY--Q"
      },
      "source": [
        "# Write review_id_df to table in RDS\n",
        "review_id_df.write.jdbc(url=jdbc_url, table='review_id_table', mode=mode, properties=config)"
      ],
      "execution_count": null,
      "outputs": []
    },
    {
      "cell_type": "code",
      "metadata": {
        "id": "1m3yzn-LY--U"
      },
      "source": [
        "# Write products_df to table in RDS\n",
        "# about 3 min\n",
        "products_df.write.jdbc(url=jdbc_url, table='products_table', mode=mode, properties=config)"
      ],
      "execution_count": null,
      "outputs": []
    },
    {
      "cell_type": "code",
      "metadata": {
        "id": "KbXri15fY--Z"
      },
      "source": [
        "# Write customers_df to table in RDS\n",
        "# 5 min 14 s\n",
        "customers_df.write.jdbc(url=jdbc_url, table='customers_table', mode=mode, properties=config)"
      ],
      "execution_count": null,
      "outputs": []
    },
    {
      "cell_type": "code",
      "metadata": {
        "id": "XdQknSHLY--e"
      },
      "source": [
        "# Write vine_df to table in RDS\n",
        "# 11 minutes\n",
        "vine_df.write.jdbc(url=jdbc_url, table='vine_table', mode=mode, properties=config)"
      ],
      "execution_count": null,
      "outputs": []
    },
    {
      "cell_type": "code",
      "metadata": {
        "id": "Exuo6ebUsCqW"
      },
      "source": [
        ""
      ],
      "execution_count": null,
      "outputs": []
    }
  ]
}